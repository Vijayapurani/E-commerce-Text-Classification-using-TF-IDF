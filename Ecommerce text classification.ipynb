{
 "cells": [
  {
   "cell_type": "markdown",
   "id": "2a72738f",
   "metadata": {},
   "source": [
    "# E-commerce Text Classification"
   ]
  },
  {
   "cell_type": "markdown",
   "id": "8eb41dd9",
   "metadata": {},
   "source": [
    "## Importing libraries"
   ]
  },
  {
   "cell_type": "code",
   "execution_count": 1,
   "id": "560aee8d",
   "metadata": {},
   "outputs": [],
   "source": [
    "import pandas as pd\n",
    "import numpy as np\n",
    "import re\n",
    "from nltk.corpus import stopwords\n",
    "from nltk.stem import WordNetLemmatizer\n",
    "\n",
    "from sklearn.feature_extraction.text import TfidfVectorizer\n",
    "from xgboost import XGBClassifier\n",
    "from sklearn.model_selection import StratifiedShuffleSplit\n",
    "from sklearn.metrics import accuracy_score,confusion_matrix,classification_report\n",
    "from sklearn.preprocessing import LabelEncoder\n"
   ]
  },
  {
   "cell_type": "markdown",
   "id": "a63f7ae7",
   "metadata": {},
   "source": [
    "## Reading and Analysing the dataset"
   ]
  },
  {
   "cell_type": "code",
   "execution_count": 2,
   "id": "befaa539",
   "metadata": {},
   "outputs": [
    {
     "data": {
      "text/html": [
       "<div>\n",
       "<style scoped>\n",
       "    .dataframe tbody tr th:only-of-type {\n",
       "        vertical-align: middle;\n",
       "    }\n",
       "\n",
       "    .dataframe tbody tr th {\n",
       "        vertical-align: top;\n",
       "    }\n",
       "\n",
       "    .dataframe thead th {\n",
       "        text-align: right;\n",
       "    }\n",
       "</style>\n",
       "<table border=\"1\" class=\"dataframe\">\n",
       "  <thead>\n",
       "    <tr style=\"text-align: right;\">\n",
       "      <th></th>\n",
       "      <th>Class</th>\n",
       "      <th>Text</th>\n",
       "    </tr>\n",
       "  </thead>\n",
       "  <tbody>\n",
       "    <tr>\n",
       "      <th>0</th>\n",
       "      <td>Books</td>\n",
       "      <td>Inner Engineering: A Yogi's Guide to Joy About...</td>\n",
       "    </tr>\n",
       "    <tr>\n",
       "      <th>1</th>\n",
       "      <td>Books</td>\n",
       "      <td>Muslims and Missionaries in Pre-Mutiny India</td>\n",
       "    </tr>\n",
       "    <tr>\n",
       "      <th>2</th>\n",
       "      <td>Books</td>\n",
       "      <td>The PCOD - Thyroid Book - Compiled From Women ...</td>\n",
       "    </tr>\n",
       "    <tr>\n",
       "      <th>3</th>\n",
       "      <td>Books</td>\n",
       "      <td>The Monk Who Sold His Ferrari Review Everyone ...</td>\n",
       "    </tr>\n",
       "    <tr>\n",
       "      <th>4</th>\n",
       "      <td>Books</td>\n",
       "      <td>The Secret of Secrets: The Secrets of the Gold...</td>\n",
       "    </tr>\n",
       "  </tbody>\n",
       "</table>\n",
       "</div>"
      ],
      "text/plain": [
       "   Class                                               Text\n",
       "0  Books  Inner Engineering: A Yogi's Guide to Joy About...\n",
       "1  Books       Muslims and Missionaries in Pre-Mutiny India\n",
       "2  Books  The PCOD - Thyroid Book - Compiled From Women ...\n",
       "3  Books  The Monk Who Sold His Ferrari Review Everyone ...\n",
       "4  Books  The Secret of Secrets: The Secrets of the Gold..."
      ]
     },
     "execution_count": 2,
     "metadata": {},
     "output_type": "execute_result"
    }
   ],
   "source": [
    "df = pd.read_csv('ecommerceDataset.csv',usecols=['Class','Text'])\n",
    "df.head()"
   ]
  },
  {
   "cell_type": "code",
   "execution_count": 3,
   "id": "50a716cd",
   "metadata": {},
   "outputs": [
    {
     "name": "stdout",
     "output_type": "stream",
     "text": [
      "<class 'pandas.core.frame.DataFrame'>\n",
      "RangeIndex: 50425 entries, 0 to 50424\n",
      "Data columns (total 2 columns):\n",
      " #   Column  Non-Null Count  Dtype \n",
      "---  ------  --------------  ----- \n",
      " 0   Class   50425 non-null  object\n",
      " 1   Text    50424 non-null  object\n",
      "dtypes: object(2)\n",
      "memory usage: 788.0+ KB\n"
     ]
    }
   ],
   "source": [
    "df.info()"
   ]
  },
  {
   "cell_type": "markdown",
   "id": "67f3d619",
   "metadata": {},
   "source": [
    "We observe that there is a null value in Text column. Let's drop it"
   ]
  },
  {
   "cell_type": "code",
   "execution_count": 4,
   "id": "8e8dfeee",
   "metadata": {},
   "outputs": [
    {
     "name": "stdout",
     "output_type": "stream",
     "text": [
      "<class 'pandas.core.frame.DataFrame'>\n",
      "Int64Index: 50424 entries, 0 to 50424\n",
      "Data columns (total 2 columns):\n",
      " #   Column  Non-Null Count  Dtype \n",
      "---  ------  --------------  ----- \n",
      " 0   Class   50424 non-null  object\n",
      " 1   Text    50424 non-null  object\n",
      "dtypes: object(2)\n",
      "memory usage: 1.2+ MB\n"
     ]
    }
   ],
   "source": [
    "# Dropping null values\n",
    "df.dropna(inplace=True)\n",
    "df.info()\n"
   ]
  },
  {
   "cell_type": "code",
   "execution_count": 5,
   "id": "8afa0552",
   "metadata": {},
   "outputs": [
    {
     "data": {
      "text/plain": [
       "22622"
      ]
     },
     "execution_count": 5,
     "metadata": {},
     "output_type": "execute_result"
    }
   ],
   "source": [
    "# Checking for duplicates\n",
    "df.duplicated().sum()"
   ]
  },
  {
   "cell_type": "markdown",
   "id": "06f00c13",
   "metadata": {},
   "source": [
    "We observe that there are 22.6K  duplicated values, which have to be removed"
   ]
  },
  {
   "cell_type": "code",
   "execution_count": 6,
   "id": "3d3c7cb6",
   "metadata": {},
   "outputs": [
    {
     "name": "stdout",
     "output_type": "stream",
     "text": [
      "<class 'pandas.core.frame.DataFrame'>\n",
      "Int64Index: 27802 entries, 0 to 50410\n",
      "Data columns (total 2 columns):\n",
      " #   Column  Non-Null Count  Dtype \n",
      "---  ------  --------------  ----- \n",
      " 0   Class   27802 non-null  object\n",
      " 1   Text    27802 non-null  object\n",
      "dtypes: object(2)\n",
      "memory usage: 651.6+ KB\n"
     ]
    }
   ],
   "source": [
    "df.drop_duplicates(keep='first',inplace=True)\n",
    "df.info()"
   ]
  },
  {
   "cell_type": "code",
   "execution_count": 7,
   "id": "20fd06d8",
   "metadata": {},
   "outputs": [
    {
     "data": {
      "text/plain": [
       "Household                 0.379973\n",
       "Books                     0.225020\n",
       "Clothing & Accessories    0.204086\n",
       "Electronics               0.190922\n",
       "Name: Class, dtype: float64"
      ]
     },
     "execution_count": 7,
     "metadata": {},
     "output_type": "execute_result"
    }
   ],
   "source": [
    "# Checking class distribution\n",
    "df['Class'].value_counts()/len(df)"
   ]
  },
  {
   "cell_type": "markdown",
   "id": "1f850756",
   "metadata": {},
   "source": [
    "There is a slight imbalance in the dataset, with majority of data belonging to Household category"
   ]
  },
  {
   "cell_type": "code",
   "execution_count": 8,
   "id": "fff8f371",
   "metadata": {},
   "outputs": [
    {
     "name": "stdout",
     "output_type": "stream",
     "text": [
      "Minimum:  4\n",
      "Maximum:  32493\n",
      "Average:  698.1056039133875\n",
      "Median:  473.0\n"
     ]
    }
   ],
   "source": [
    "#Let's check the min, max and median text length\n",
    "min_length = df['Text'].str.len().min()\n",
    "max_length = df['Text'].str.len().max()\n",
    "avg_length = df['Text'].str.len().mean()\n",
    "median_length = df['Text'].str.len().median()\n",
    "\n",
    "print('Minimum: ',min_length)\n",
    "print('Maximum: ',max_length)\n",
    "print('Average: ',avg_length)\n",
    "print('Median: ',median_length)"
   ]
  },
  {
   "cell_type": "markdown",
   "id": "4f08bf88",
   "metadata": {},
   "source": [
    "We see that the text length varies from a character count of 4  to 32,493. This might change after removing stopwords. Let's limit the text length to 150 words."
   ]
  },
  {
   "cell_type": "markdown",
   "id": "f436201c",
   "metadata": {},
   "source": [
    "## Train-Test split"
   ]
  },
  {
   "cell_type": "code",
   "execution_count": 9,
   "id": "d2e47429",
   "metadata": {},
   "outputs": [],
   "source": [
    "y = df.pop('Class')\n",
    "X=df"
   ]
  },
  {
   "cell_type": "code",
   "execution_count": 10,
   "id": "cb364c8d",
   "metadata": {},
   "outputs": [],
   "source": [
    "#Since the class distribution is imbalanced, we are doing a stratified shuffle split\n",
    "sss= StratifiedShuffleSplit(n_splits=1, test_size=.3,random_state=100)\n",
    "for train_index,test_index in sss.split(X,y):\n",
    "    X_train,X_test =X.iloc[train_index],X.iloc[test_index]\n",
    "    y_train,y_test=y.iloc[train_index],y.iloc[test_index]"
   ]
  },
  {
   "cell_type": "markdown",
   "id": "0b0835c9",
   "metadata": {},
   "source": [
    "##  Preprocessing"
   ]
  },
  {
   "cell_type": "code",
   "execution_count": 11,
   "id": "a4622c4e",
   "metadata": {},
   "outputs": [],
   "source": [
    "# Preprocessing Text\n",
    "def text_preprocess(text):\n",
    "    '''This function will change the case to lower, remove the stopwords, numbers & punctuations and perform stemming.\n",
    "      Further, the text size is also limited to 100 words'''\n",
    "        \n",
    "    txt = text.lower()\n",
    "    \n",
    "    txt = re.sub('[^a-zA-Z\\s]','',txt)\n",
    "    \n",
    "    stop_word = set(stopwords.words('english'))\n",
    "    lemma =  WordNetLemmatizer()\n",
    "    txt =' '.join([lemma.lemmatize(word) for word in txt.split() if word not in stop_word][:150]) \n",
    "    \n",
    "    return txt"
   ]
  },
  {
   "cell_type": "code",
   "execution_count": 12,
   "id": "090f05b3",
   "metadata": {},
   "outputs": [
    {
     "name": "stderr",
     "output_type": "stream",
     "text": [
      "C:\\Users\\lenov\\AppData\\Local\\Temp\\ipykernel_22844\\531990991.py:1: SettingWithCopyWarning: \n",
      "A value is trying to be set on a copy of a slice from a DataFrame.\n",
      "Try using .loc[row_indexer,col_indexer] = value instead\n",
      "\n",
      "See the caveats in the documentation: https://pandas.pydata.org/pandas-docs/stable/user_guide/indexing.html#returning-a-view-versus-a-copy\n",
      "  X_train['Text'] =X_train['Text'].apply(text_preprocess)\n"
     ]
    }
   ],
   "source": [
    "X_train['Text'] =X_train['Text'].apply(text_preprocess)"
   ]
  },
  {
   "cell_type": "code",
   "execution_count": 13,
   "id": "473ba1c7",
   "metadata": {},
   "outputs": [
    {
     "data": {
      "text/plain": [
       "933"
      ]
     },
     "execution_count": 13,
     "metadata": {},
     "output_type": "execute_result"
    }
   ],
   "source": [
    "# TF IDF\n",
    "tf_idf = TfidfVectorizer(ngram_range=(1,2),min_df=.01,max_df=.85,sublinear_tf=True)\n",
    "X_train_tfidf = tf_idf.fit_transform(X_train['Text'])\n",
    "len(tf_idf.get_feature_names_out())"
   ]
  },
  {
   "cell_type": "code",
   "execution_count": 14,
   "id": "b6b50fa3",
   "metadata": {},
   "outputs": [],
   "source": [
    "#Encoding Target variable\n",
    "le=LabelEncoder()\n",
    "y_train_label=le.fit_transform(y_train)\n"
   ]
  },
  {
   "cell_type": "code",
   "execution_count": 15,
   "id": "49fb8c07",
   "metadata": {},
   "outputs": [
    {
     "name": "stdout",
     "output_type": "stream",
     "text": [
      "0 ['Books']\n",
      "1 ['Clothing & Accessories']\n",
      "2 ['Electronics']\n",
      "3 ['Household']\n"
     ]
    }
   ],
   "source": [
    "# let's look at the label assigned for each class\n",
    "for i in range(4):\n",
    "    print (i, le.inverse_transform([i]))"
   ]
  },
  {
   "cell_type": "markdown",
   "id": "03dba9b1",
   "metadata": {},
   "source": [
    "## Model Building"
   ]
  },
  {
   "cell_type": "code",
   "execution_count": 16,
   "id": "27363bc4",
   "metadata": {},
   "outputs": [],
   "source": [
    "xgb = XGBClassifier(n_estimators=50,max_depth=4,n_jobs=-1)\n",
    "model = xgb.fit(X_train_tfidf,y_train_label)"
   ]
  },
  {
   "cell_type": "code",
   "execution_count": 17,
   "id": "1aa16b38",
   "metadata": {},
   "outputs": [],
   "source": [
    "y_train_pred= model.predict(X_train_tfidf)"
   ]
  },
  {
   "cell_type": "code",
   "execution_count": 18,
   "id": "f3fb7820",
   "metadata": {},
   "outputs": [
    {
     "name": "stdout",
     "output_type": "stream",
     "text": [
      "              precision    recall  f1-score   support\n",
      "\n",
      "           0       0.92      0.93      0.93      4379\n",
      "           1       0.96      0.95      0.95      3972\n",
      "           2       0.95      0.84      0.89      3715\n",
      "           3       0.90      0.95      0.92      7395\n",
      "\n",
      "    accuracy                           0.92     19461\n",
      "   macro avg       0.93      0.92      0.92     19461\n",
      "weighted avg       0.93      0.92      0.92     19461\n",
      "\n"
     ]
    }
   ],
   "source": [
    "report = classification_report(y_train_label,y_train_pred)\n",
    "print(report)"
   ]
  },
  {
   "cell_type": "markdown",
   "id": "874d479f",
   "metadata": {},
   "source": [
    "## Model evaluation"
   ]
  },
  {
   "cell_type": "code",
   "execution_count": 19,
   "id": "bfa8ee05",
   "metadata": {},
   "outputs": [
    {
     "name": "stderr",
     "output_type": "stream",
     "text": [
      "C:\\Users\\lenov\\AppData\\Local\\Temp\\ipykernel_22844\\2510339994.py:1: SettingWithCopyWarning: \n",
      "A value is trying to be set on a copy of a slice from a DataFrame.\n",
      "Try using .loc[row_indexer,col_indexer] = value instead\n",
      "\n",
      "See the caveats in the documentation: https://pandas.pydata.org/pandas-docs/stable/user_guide/indexing.html#returning-a-view-versus-a-copy\n",
      "  X_test['Text_prep']=X_test['Text'].apply(text_preprocess)\n"
     ]
    }
   ],
   "source": [
    "X_test['Text_prep']=X_test['Text'].apply(text_preprocess)\n",
    "X_test_tfidf = tf_idf.transform(X_test['Text_prep'])"
   ]
  },
  {
   "cell_type": "code",
   "execution_count": 20,
   "id": "1bd39a67",
   "metadata": {},
   "outputs": [],
   "source": [
    "# Target encoding\n",
    "y_test_label = le.transform(y_test)"
   ]
  },
  {
   "cell_type": "code",
   "execution_count": 21,
   "id": "390b06f4",
   "metadata": {},
   "outputs": [
    {
     "name": "stdout",
     "output_type": "stream",
     "text": [
      "              precision    recall  f1-score   support\n",
      "\n",
      "           0       0.91      0.92      0.92      1877\n",
      "           1       0.94      0.93      0.94      1702\n",
      "           2       0.93      0.84      0.89      1593\n",
      "           3       0.88      0.93      0.91      3169\n",
      "\n",
      "    accuracy                           0.91      8341\n",
      "   macro avg       0.92      0.90      0.91      8341\n",
      "weighted avg       0.91      0.91      0.91      8341\n",
      "\n"
     ]
    }
   ],
   "source": [
    "# Evaluation on test set\n",
    "y_pred = model.predict(X_test_tfidf)\n",
    "report_test = classification_report(y_test_label,y_pred)\n",
    "print(report_test)"
   ]
  },
  {
   "cell_type": "markdown",
   "id": "9666d45b",
   "metadata": {},
   "source": [
    "The model performs well on both training and test data and weighted f1 score is .91"
   ]
  },
  {
   "cell_type": "code",
   "execution_count": 22,
   "id": "ed6af755",
   "metadata": {},
   "outputs": [],
   "source": [
    "#Let's plot the confusion matrix\n",
    "conf=confusion_matrix(y_test_label,y_pred)"
   ]
  },
  {
   "cell_type": "code",
   "execution_count": 23,
   "id": "f91d5ddd",
   "metadata": {},
   "outputs": [
    {
     "data": {
      "text/plain": [
       "<AxesSubplot: >"
      ]
     },
     "execution_count": 23,
     "metadata": {},
     "output_type": "execute_result"
    },
    {
     "data": {
      "image/png": "[encoded data removed]",
      "text/plain": [
       "<Figure size 640x480 with 2 Axes>"
      ]
     },
     "metadata": {},
     "output_type": "display_data"
    }
   ],
   "source": [
    "import seaborn as sns\n",
    "sns.heatmap(conf,annot=True)"
   ]
  },
  {
   "cell_type": "markdown",
   "id": "dc0bc797",
   "metadata": {},
   "source": [
    "### Testing on random data"
   ]
  },
  {
   "cell_type": "code",
   "execution_count": 26,
   "id": "ba9cca44",
   "metadata": {},
   "outputs": [],
   "source": [
    "test_input=[(X_test['Text'][24239] , y_test[24239]),(X_test['Text'][28563] , y_test[28563]),(X_test['Text'][39530] , y_test[39530]),(X_test['Text'][46504] , y_test[46504])]\n",
    "\n"
   ]
  },
  {
   "cell_type": "code",
   "execution_count": 27,
   "id": "9744bf1b",
   "metadata": {},
   "outputs": [],
   "source": [
    "txt=[]\n",
    "for i in range(len(test_input)):\n",
    "    txt.append(text_preprocess(test_input[i][0]))\n",
    "\n",
    "txt_tfidf= tf_idf.transform(txt)"
   ]
  },
  {
   "cell_type": "code",
   "execution_count": 28,
   "id": "8b141598",
   "metadata": {},
   "outputs": [
    {
     "name": "stdout",
     "output_type": "stream",
     "text": [
      "Input:  Black & Decker KW712 650-watts Wood Planer ...\n",
      "Predicted class:  ['Household']  Actual class:  Household \n",
      "\n",
      "\n",
      "Input:  Acupuncture - Oru Arimugam Guide book that provides introduction to everything about Acupuncture ...\n",
      "Predicted class:  ['Books']  Actual class:  Books \n",
      "\n",
      "\n",
      "Input:  Khushal K Women's Cotton Printed Jacket Kurta With Palazzo Pant Set Impress Everyone With Your Stunning Traditional Look By Wearing This Beautiful Printed Cotton Jacket & Inner Kurta With Printed Cott ...\n",
      "Predicted class:  ['Clothing & Accessories']  Actual class:  Clothing & Accessories \n",
      "\n",
      "\n",
      "Input:  CamArmour Flexible Octopus Foldable Tripod for Camera, DSLR and Smartphones with Universal Mobile Attachment(White & Black) ★ Want to own a tripod for your camera but within the range of your pocket.. ...\n",
      "Predicted class:  ['Electronics']  Actual class:  Electronics \n",
      "\n",
      "\n"
     ]
    }
   ],
   "source": [
    "pred = model.predict(txt_tfidf)\n",
    "for i in range(len(test_input)):\n",
    "    print(\"Input: \", test_input[i][0][:200],'...')  # only first 200 characters are printed\n",
    "    print(\"Predicted class: \",le.inverse_transform([pred[i]]) ,\" Actual class: \", test_input[i][1],'\\n\\n')"
   ]
  },
  {
   "cell_type": "markdown",
   "id": "89f45cd1",
   "metadata": {},
   "source": [
    "We see that all the text inputs are correctly classified"
   ]
  },
  {
   "cell_type": "code",
   "execution_count": null,
   "id": "c284982c",
   "metadata": {},
   "outputs": [],
   "source": []
  }
 ],
 "metadata": {
  "kernelspec": {
   "display_name": "Python 3 (ipykernel)",
   "language": "python",
   "name": "python3"
  },
  "language_info": {
   "codemirror_mode": {
    "name": "ipython",
    "version": 3
   },
   "file_extension": ".py",
   "mimetype": "text/x-python",
   "name": "python",
   "nbconvert_exporter": "python",
   "pygments_lexer": "ipython3",
   "version": "3.10.8"
  }
 },
 "nbformat": 4,
 "nbformat_minor": 5
}
